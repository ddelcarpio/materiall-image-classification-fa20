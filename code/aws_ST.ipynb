{
 "cells": [
  {
   "cell_type": "code",
   "execution_count": 5,
   "metadata": {},
   "outputs": [],
   "source": [
    "# !pip install boto3"
   ]
  },
  {
   "cell_type": "code",
   "execution_count": 15,
   "metadata": {},
   "outputs": [],
   "source": [
    "import pandas as pd\n",
    "import numpy as np\n",
    "import re\n",
    "import time\n",
    "\n",
    "# AWS stuff\n",
    "import logging\n",
    "import boto3\n",
    "from botocore.exceptions import ClientError"
   ]
  },
  {
   "cell_type": "code",
   "execution_count": 48,
   "metadata": {},
   "outputs": [],
   "source": [
    "# REMOVE CREDS BEFORE UPLOAD!\n",
    "# Go to Vocareum --> account details in AWS Educate\n",
    "\n",
    "region = \"us-east-1\"\n",
    "aws_access_key_id = \"-----redacted--------\"\n",
    "aws_secret_access_key = \"-----redacted--------\"\n",
    "aws_session_token = \"-----redacted--------\"\n",
    "\n",
    "# get bucket\n",
    "s3 = boto3.client('s3', \n",
    "                  region_name=region,\n",
    "                  aws_access_key_id=aws_access_key_id, \n",
    "                  aws_secret_access_key=aws_secret_access_key, \n",
    "                  aws_session_token=aws_session_token)"
   ]
  },
  {
   "cell_type": "code",
   "execution_count": 49,
   "metadata": {},
   "outputs": [],
   "source": [
    "def check_buckets(s3):\n",
    "    \n",
    "    # Retrieve the list of existing buckets\n",
    "    response = s3.list_buckets()\n",
    "\n",
    "    # Output the bucket names\n",
    "    print('Existing buckets:')\n",
    "\n",
    "    for bucket in response['Buckets']:\n",
    "        print(f' {bucket[\"Name\"]}')"
   ]
  },
  {
   "cell_type": "code",
   "execution_count": 50,
   "metadata": {},
   "outputs": [
    {
     "name": "stdout",
     "output_type": "stream",
     "text": [
      "Existing buckets:\n"
     ]
    }
   ],
   "source": [
    "check_buckets(s3) #none"
   ]
  },
  {
   "cell_type": "code",
   "execution_count": 58,
   "metadata": {},
   "outputs": [],
   "source": [
    "# aws educate only gives access to us-east-1\n",
    "\n",
    "def create_bucket(bucket_name, s3_client, region=None):\n",
    "    \"\"\"\n",
    "    defaults to us-east-1 region, no need to specify \n",
    "    \n",
    "    :param bucket_name: Bucket to create\n",
    "    :param region: String region to create bucket in, e.g., 'us-west-2'\n",
    "    :return: True if bucket created, else False\n",
    "    \"\"\"\n",
    "\n",
    "    # Create bucket\n",
    "    try:\n",
    "        s3_client.create_bucket(Bucket=bucket_name)\n",
    "        \n",
    "    except ClientError as e:\n",
    "        logging.error(e) #outputs/prints error\n",
    "        return False\n",
    "    \n",
    "    return True"
   ]
  },
  {
   "cell_type": "code",
   "execution_count": 59,
   "metadata": {},
   "outputs": [
    {
     "data": {
      "text/plain": [
       "True"
      ]
     },
     "execution_count": 59,
     "metadata": {},
     "output_type": "execute_result"
    }
   ],
   "source": [
    "# NOTE: bucket name has specific naming convention: see link\n",
    "# https://stackoverflow.com/questions/49548451/invalid-bucket-name-when-creating-s3-bucket-with-aws-sdk\n",
    "\n",
    "# if you get an error, for location stuff, it might just be cuz your bucket name is not unique\n",
    "# ie. someone took your bucket name already\n",
    "create_bucket('samanthatangbucket', s3)\n"
   ]
  },
  {
   "cell_type": "code",
   "execution_count": 60,
   "metadata": {},
   "outputs": [
    {
     "name": "stdout",
     "output_type": "stream",
     "text": [
      "Existing buckets:\n",
      " samanthatangbucket\n"
     ]
    }
   ],
   "source": [
    "check_buckets(s3) #none"
   ]
  },
  {
   "cell_type": "code",
   "execution_count": 63,
   "metadata": {},
   "outputs": [
    {
     "data": {
      "text/html": [
       "<div>\n",
       "<style scoped>\n",
       "    .dataframe tbody tr th:only-of-type {\n",
       "        vertical-align: middle;\n",
       "    }\n",
       "\n",
       "    .dataframe tbody tr th {\n",
       "        vertical-align: top;\n",
       "    }\n",
       "\n",
       "    .dataframe thead th {\n",
       "        text-align: right;\n",
       "    }\n",
       "</style>\n",
       "<table border=\"1\" class=\"dataframe\">\n",
       "  <thead>\n",
       "    <tr style=\"text-align: right;\">\n",
       "      <th></th>\n",
       "      <th>image_url</th>\n",
       "      <th>address_url</th>\n",
       "      <th>addresses</th>\n",
       "    </tr>\n",
       "  </thead>\n",
       "  <tbody>\n",
       "    <tr>\n",
       "      <th>0</th>\n",
       "      <td>https://ap.rdcpix.com/33cb3ce1fda944eb6660f341...</td>\n",
       "      <td>https://www.realtor.com/realestateandhomes-det...</td>\n",
       "      <td>100-Black-Mountain-Cir_Fremont_CA_94536</td>\n",
       "    </tr>\n",
       "    <tr>\n",
       "      <th>1</th>\n",
       "      <td>https://ap.rdcpix.com/33cb3ce1fda944eb6660f341...</td>\n",
       "      <td>https://www.realtor.com/realestateandhomes-det...</td>\n",
       "      <td>100-Black-Mountain-Cir_Fremont_CA_94536</td>\n",
       "    </tr>\n",
       "    <tr>\n",
       "      <th>2</th>\n",
       "      <td>https://ap.rdcpix.com/33cb3ce1fda944eb6660f341...</td>\n",
       "      <td>https://www.realtor.com/realestateandhomes-det...</td>\n",
       "      <td>100-Black-Mountain-Cir_Fremont_CA_94536</td>\n",
       "    </tr>\n",
       "    <tr>\n",
       "      <th>3</th>\n",
       "      <td>https://ap.rdcpix.com/33cb3ce1fda944eb6660f341...</td>\n",
       "      <td>https://www.realtor.com/realestateandhomes-det...</td>\n",
       "      <td>100-Black-Mountain-Cir_Fremont_CA_94536</td>\n",
       "    </tr>\n",
       "    <tr>\n",
       "      <th>4</th>\n",
       "      <td>https://ap.rdcpix.com/33cb3ce1fda944eb6660f341...</td>\n",
       "      <td>https://www.realtor.com/realestateandhomes-det...</td>\n",
       "      <td>100-Black-Mountain-Cir_Fremont_CA_94536</td>\n",
       "    </tr>\n",
       "    <tr>\n",
       "      <th>...</th>\n",
       "      <td>...</td>\n",
       "      <td>...</td>\n",
       "      <td>...</td>\n",
       "    </tr>\n",
       "    <tr>\n",
       "      <th>159</th>\n",
       "      <td>https://ap.rdcpix.com/33cb3ce1fda944eb6660f341...</td>\n",
       "      <td>https://www.realtor.com/realestateandhomes-det...</td>\n",
       "      <td>169-Rabbit-Ct_Fremont_CA_94539</td>\n",
       "    </tr>\n",
       "    <tr>\n",
       "      <th>160</th>\n",
       "      <td>https://ap.rdcpix.com/33cb3ce1fda944eb6660f341...</td>\n",
       "      <td>https://www.realtor.com/realestateandhomes-det...</td>\n",
       "      <td>169-Rabbit-Ct_Fremont_CA_94539</td>\n",
       "    </tr>\n",
       "    <tr>\n",
       "      <th>161</th>\n",
       "      <td>https://ap.rdcpix.com/33cb3ce1fda944eb6660f341...</td>\n",
       "      <td>https://www.realtor.com/realestateandhomes-det...</td>\n",
       "      <td>169-Rabbit-Ct_Fremont_CA_94539</td>\n",
       "    </tr>\n",
       "    <tr>\n",
       "      <th>162</th>\n",
       "      <td>https://ap.rdcpix.com/33cb3ce1fda944eb6660f341...</td>\n",
       "      <td>https://www.realtor.com/realestateandhomes-det...</td>\n",
       "      <td>169-Rabbit-Ct_Fremont_CA_94539</td>\n",
       "    </tr>\n",
       "    <tr>\n",
       "      <th>163</th>\n",
       "      <td>https://ap.rdcpix.com/33cb3ce1fda944eb6660f341...</td>\n",
       "      <td>https://www.realtor.com/realestateandhomes-det...</td>\n",
       "      <td>169-Rabbit-Ct_Fremont_CA_94539</td>\n",
       "    </tr>\n",
       "  </tbody>\n",
       "</table>\n",
       "<p>164 rows × 3 columns</p>\n",
       "</div>"
      ],
      "text/plain": [
       "                                             image_url  \\\n",
       "0    https://ap.rdcpix.com/33cb3ce1fda944eb6660f341...   \n",
       "1    https://ap.rdcpix.com/33cb3ce1fda944eb6660f341...   \n",
       "2    https://ap.rdcpix.com/33cb3ce1fda944eb6660f341...   \n",
       "3    https://ap.rdcpix.com/33cb3ce1fda944eb6660f341...   \n",
       "4    https://ap.rdcpix.com/33cb3ce1fda944eb6660f341...   \n",
       "..                                                 ...   \n",
       "159  https://ap.rdcpix.com/33cb3ce1fda944eb6660f341...   \n",
       "160  https://ap.rdcpix.com/33cb3ce1fda944eb6660f341...   \n",
       "161  https://ap.rdcpix.com/33cb3ce1fda944eb6660f341...   \n",
       "162  https://ap.rdcpix.com/33cb3ce1fda944eb6660f341...   \n",
       "163  https://ap.rdcpix.com/33cb3ce1fda944eb6660f341...   \n",
       "\n",
       "                                           address_url  \\\n",
       "0    https://www.realtor.com/realestateandhomes-det...   \n",
       "1    https://www.realtor.com/realestateandhomes-det...   \n",
       "2    https://www.realtor.com/realestateandhomes-det...   \n",
       "3    https://www.realtor.com/realestateandhomes-det...   \n",
       "4    https://www.realtor.com/realestateandhomes-det...   \n",
       "..                                                 ...   \n",
       "159  https://www.realtor.com/realestateandhomes-det...   \n",
       "160  https://www.realtor.com/realestateandhomes-det...   \n",
       "161  https://www.realtor.com/realestateandhomes-det...   \n",
       "162  https://www.realtor.com/realestateandhomes-det...   \n",
       "163  https://www.realtor.com/realestateandhomes-det...   \n",
       "\n",
       "                                   addresses  \n",
       "0    100-Black-Mountain-Cir_Fremont_CA_94536  \n",
       "1    100-Black-Mountain-Cir_Fremont_CA_94536  \n",
       "2    100-Black-Mountain-Cir_Fremont_CA_94536  \n",
       "3    100-Black-Mountain-Cir_Fremont_CA_94536  \n",
       "4    100-Black-Mountain-Cir_Fremont_CA_94536  \n",
       "..                                       ...  \n",
       "159           169-Rabbit-Ct_Fremont_CA_94539  \n",
       "160           169-Rabbit-Ct_Fremont_CA_94539  \n",
       "161           169-Rabbit-Ct_Fremont_CA_94539  \n",
       "162           169-Rabbit-Ct_Fremont_CA_94539  \n",
       "163           169-Rabbit-Ct_Fremont_CA_94539  \n",
       "\n",
       "[164 rows x 3 columns]"
      ]
     },
     "execution_count": 63,
     "metadata": {},
     "output_type": "execute_result"
    }
   ],
   "source": [
    "df = pd.read_csv('./fremont_images.csv')\n",
    "df"
   ]
  },
  {
   "cell_type": "code",
   "execution_count": 61,
   "metadata": {},
   "outputs": [],
   "source": [
    "def upload_file(file_name, bucket, s3_client, object_name=None):\n",
    "    \"\"\"Upload a file to an S3 bucket\n",
    "\n",
    "    :param file_name: File to upload\n",
    "    :param bucket: Bucket to upload to\n",
    "    :param object_name: S3 object name. If not specified then file_name is used\n",
    "    :return: True if file was uploaded, else False\n",
    "    \"\"\"\n",
    "\n",
    "    # If S3 object_name was not specified, use file_name\n",
    "    if object_name is None:\n",
    "        object_name = file_name\n",
    "\n",
    "    # Upload the file\n",
    "    try:\n",
    "        response = s3_client.upload_file(file_name, bucket, object_name)\n",
    "        \n",
    "    except ClientError as e:\n",
    "        logging.error(e)\n",
    "        return False\n",
    "    return True"
   ]
  },
  {
   "cell_type": "code",
   "execution_count": 69,
   "metadata": {},
   "outputs": [
    {
     "data": {
      "text/plain": [
       "True"
      ]
     },
     "execution_count": 69,
     "metadata": {},
     "output_type": "execute_result"
    }
   ],
   "source": [
    "upload_file(\"fremont_images.csv\", \"samanthatangbucket\", s3)"
   ]
  },
  {
   "cell_type": "code",
   "execution_count": 78,
   "metadata": {},
   "outputs": [],
   "source": [
    "# will have downloaded to path/name\n",
    "\n",
    "path = 'df_downloaded.csv' \n",
    "s3.download_file('samanthatangbucket', 'fremont_images.csv', path)"
   ]
  },
  {
   "cell_type": "code",
   "execution_count": 79,
   "metadata": {
    "scrolled": false
   },
   "outputs": [
    {
     "data": {
      "text/html": [
       "<div>\n",
       "<style scoped>\n",
       "    .dataframe tbody tr th:only-of-type {\n",
       "        vertical-align: middle;\n",
       "    }\n",
       "\n",
       "    .dataframe tbody tr th {\n",
       "        vertical-align: top;\n",
       "    }\n",
       "\n",
       "    .dataframe thead th {\n",
       "        text-align: right;\n",
       "    }\n",
       "</style>\n",
       "<table border=\"1\" class=\"dataframe\">\n",
       "  <thead>\n",
       "    <tr style=\"text-align: right;\">\n",
       "      <th></th>\n",
       "      <th>image_url</th>\n",
       "      <th>address_url</th>\n",
       "      <th>addresses</th>\n",
       "    </tr>\n",
       "  </thead>\n",
       "  <tbody>\n",
       "    <tr>\n",
       "      <th>0</th>\n",
       "      <td>https://ap.rdcpix.com/33cb3ce1fda944eb6660f341...</td>\n",
       "      <td>https://www.realtor.com/realestateandhomes-det...</td>\n",
       "      <td>100-Black-Mountain-Cir_Fremont_CA_94536</td>\n",
       "    </tr>\n",
       "    <tr>\n",
       "      <th>1</th>\n",
       "      <td>https://ap.rdcpix.com/33cb3ce1fda944eb6660f341...</td>\n",
       "      <td>https://www.realtor.com/realestateandhomes-det...</td>\n",
       "      <td>100-Black-Mountain-Cir_Fremont_CA_94536</td>\n",
       "    </tr>\n",
       "    <tr>\n",
       "      <th>2</th>\n",
       "      <td>https://ap.rdcpix.com/33cb3ce1fda944eb6660f341...</td>\n",
       "      <td>https://www.realtor.com/realestateandhomes-det...</td>\n",
       "      <td>100-Black-Mountain-Cir_Fremont_CA_94536</td>\n",
       "    </tr>\n",
       "    <tr>\n",
       "      <th>3</th>\n",
       "      <td>https://ap.rdcpix.com/33cb3ce1fda944eb6660f341...</td>\n",
       "      <td>https://www.realtor.com/realestateandhomes-det...</td>\n",
       "      <td>100-Black-Mountain-Cir_Fremont_CA_94536</td>\n",
       "    </tr>\n",
       "    <tr>\n",
       "      <th>4</th>\n",
       "      <td>https://ap.rdcpix.com/33cb3ce1fda944eb6660f341...</td>\n",
       "      <td>https://www.realtor.com/realestateandhomes-det...</td>\n",
       "      <td>100-Black-Mountain-Cir_Fremont_CA_94536</td>\n",
       "    </tr>\n",
       "    <tr>\n",
       "      <th>...</th>\n",
       "      <td>...</td>\n",
       "      <td>...</td>\n",
       "      <td>...</td>\n",
       "    </tr>\n",
       "    <tr>\n",
       "      <th>159</th>\n",
       "      <td>https://ap.rdcpix.com/33cb3ce1fda944eb6660f341...</td>\n",
       "      <td>https://www.realtor.com/realestateandhomes-det...</td>\n",
       "      <td>169-Rabbit-Ct_Fremont_CA_94539</td>\n",
       "    </tr>\n",
       "    <tr>\n",
       "      <th>160</th>\n",
       "      <td>https://ap.rdcpix.com/33cb3ce1fda944eb6660f341...</td>\n",
       "      <td>https://www.realtor.com/realestateandhomes-det...</td>\n",
       "      <td>169-Rabbit-Ct_Fremont_CA_94539</td>\n",
       "    </tr>\n",
       "    <tr>\n",
       "      <th>161</th>\n",
       "      <td>https://ap.rdcpix.com/33cb3ce1fda944eb6660f341...</td>\n",
       "      <td>https://www.realtor.com/realestateandhomes-det...</td>\n",
       "      <td>169-Rabbit-Ct_Fremont_CA_94539</td>\n",
       "    </tr>\n",
       "    <tr>\n",
       "      <th>162</th>\n",
       "      <td>https://ap.rdcpix.com/33cb3ce1fda944eb6660f341...</td>\n",
       "      <td>https://www.realtor.com/realestateandhomes-det...</td>\n",
       "      <td>169-Rabbit-Ct_Fremont_CA_94539</td>\n",
       "    </tr>\n",
       "    <tr>\n",
       "      <th>163</th>\n",
       "      <td>https://ap.rdcpix.com/33cb3ce1fda944eb6660f341...</td>\n",
       "      <td>https://www.realtor.com/realestateandhomes-det...</td>\n",
       "      <td>169-Rabbit-Ct_Fremont_CA_94539</td>\n",
       "    </tr>\n",
       "  </tbody>\n",
       "</table>\n",
       "<p>164 rows × 3 columns</p>\n",
       "</div>"
      ],
      "text/plain": [
       "                                             image_url  \\\n",
       "0    https://ap.rdcpix.com/33cb3ce1fda944eb6660f341...   \n",
       "1    https://ap.rdcpix.com/33cb3ce1fda944eb6660f341...   \n",
       "2    https://ap.rdcpix.com/33cb3ce1fda944eb6660f341...   \n",
       "3    https://ap.rdcpix.com/33cb3ce1fda944eb6660f341...   \n",
       "4    https://ap.rdcpix.com/33cb3ce1fda944eb6660f341...   \n",
       "..                                                 ...   \n",
       "159  https://ap.rdcpix.com/33cb3ce1fda944eb6660f341...   \n",
       "160  https://ap.rdcpix.com/33cb3ce1fda944eb6660f341...   \n",
       "161  https://ap.rdcpix.com/33cb3ce1fda944eb6660f341...   \n",
       "162  https://ap.rdcpix.com/33cb3ce1fda944eb6660f341...   \n",
       "163  https://ap.rdcpix.com/33cb3ce1fda944eb6660f341...   \n",
       "\n",
       "                                           address_url  \\\n",
       "0    https://www.realtor.com/realestateandhomes-det...   \n",
       "1    https://www.realtor.com/realestateandhomes-det...   \n",
       "2    https://www.realtor.com/realestateandhomes-det...   \n",
       "3    https://www.realtor.com/realestateandhomes-det...   \n",
       "4    https://www.realtor.com/realestateandhomes-det...   \n",
       "..                                                 ...   \n",
       "159  https://www.realtor.com/realestateandhomes-det...   \n",
       "160  https://www.realtor.com/realestateandhomes-det...   \n",
       "161  https://www.realtor.com/realestateandhomes-det...   \n",
       "162  https://www.realtor.com/realestateandhomes-det...   \n",
       "163  https://www.realtor.com/realestateandhomes-det...   \n",
       "\n",
       "                                   addresses  \n",
       "0    100-Black-Mountain-Cir_Fremont_CA_94536  \n",
       "1    100-Black-Mountain-Cir_Fremont_CA_94536  \n",
       "2    100-Black-Mountain-Cir_Fremont_CA_94536  \n",
       "3    100-Black-Mountain-Cir_Fremont_CA_94536  \n",
       "4    100-Black-Mountain-Cir_Fremont_CA_94536  \n",
       "..                                       ...  \n",
       "159           169-Rabbit-Ct_Fremont_CA_94539  \n",
       "160           169-Rabbit-Ct_Fremont_CA_94539  \n",
       "161           169-Rabbit-Ct_Fremont_CA_94539  \n",
       "162           169-Rabbit-Ct_Fremont_CA_94539  \n",
       "163           169-Rabbit-Ct_Fremont_CA_94539  \n",
       "\n",
       "[164 rows x 3 columns]"
      ]
     },
     "execution_count": 79,
     "metadata": {},
     "output_type": "execute_result"
    }
   ],
   "source": [
    "pd.read_csv(\"./df_downloaded.csv\")"
   ]
  },
  {
   "cell_type": "code",
   "execution_count": null,
   "metadata": {},
   "outputs": [],
   "source": []
  },
  {
   "cell_type": "markdown",
   "metadata": {},
   "source": [
    "References: \n",
    "\n",
    "- https://thecodinginterface.com/blog/aws-s3-python-boto3/\n",
    "- https://boto3.amazonaws.com/v1/documentation/api/latest/guide/s3-example-creating-buckets.html\n",
    "- https://medium.com/bilesanmiahmad/how-to-upload-a-file-to-amazon-s3-in-python-68757a1867c6"
   ]
  },
  {
   "cell_type": "code",
   "execution_count": null,
   "metadata": {},
   "outputs": [],
   "source": []
  },
  {
   "cell_type": "code",
   "execution_count": null,
   "metadata": {},
   "outputs": [],
   "source": []
  },
  {
   "cell_type": "code",
   "execution_count": null,
   "metadata": {},
   "outputs": [],
   "source": []
  }
 ],
 "metadata": {
  "kernelspec": {
   "display_name": "Python 3",
   "language": "python",
   "name": "python3"
  },
  "language_info": {
   "codemirror_mode": {
    "name": "ipython",
    "version": 3
   },
   "file_extension": ".py",
   "mimetype": "text/x-python",
   "name": "python",
   "nbconvert_exporter": "python",
   "pygments_lexer": "ipython3",
   "version": "3.8.6"
  }
 },
 "nbformat": 4,
 "nbformat_minor": 4
}
