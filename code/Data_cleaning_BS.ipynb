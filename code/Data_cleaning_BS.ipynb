{
 "cells": [
  {
   "cell_type": "code",
   "execution_count": 29,
   "metadata": {},
   "outputs": [],
   "source": [
    "import pandas as pd\n",
    "import requests\n",
    "from bs4 import BeautifulSoup"
   ]
  },
  {
   "cell_type": "code",
   "execution_count": 3,
   "metadata": {},
   "outputs": [
    {
     "data": {
      "text/html": [
       "<div>\n",
       "<style scoped>\n",
       "    .dataframe tbody tr th:only-of-type {\n",
       "        vertical-align: middle;\n",
       "    }\n",
       "\n",
       "    .dataframe tbody tr th {\n",
       "        vertical-align: top;\n",
       "    }\n",
       "\n",
       "    .dataframe thead th {\n",
       "        text-align: right;\n",
       "    }\n",
       "</style>\n",
       "<table border=\"1\" class=\"dataframe\">\n",
       "  <thead>\n",
       "    <tr style=\"text-align: right;\">\n",
       "      <th></th>\n",
       "      <th>offerPrice</th>\n",
       "      <th>address</th>\n",
       "      <th>pageUrl</th>\n",
       "      <th>text</th>\n",
       "      <th>brand</th>\n",
       "      <th>imageUrl</th>\n",
       "      <th>features</th>\n",
       "      <th>pixels</th>\n",
       "    </tr>\n",
       "  </thead>\n",
       "  <tbody>\n",
       "    <tr>\n",
       "      <th>0</th>\n",
       "      <td>$785.60</td>\n",
       "      <td>34239 Maybird Cir, Fremont, CA 94555</td>\n",
       "      <td>https://www.realtor.com/realestateandhomes-det...</td>\n",
       "      <td>Property Overview - Corner Lot Across From Awa...</td>\n",
       "      <td>NaN</td>\n",
       "      <td>https://p.rdcpix.com/v01/l74c6f341-m0xd-w1020_...</td>\n",
       "      <td>NaN</td>\n",
       "      <td>[[[255 254 245]\\n  [253 250 241]\\n  [235 235 2...</td>\n",
       "    </tr>\n",
       "    <tr>\n",
       "      <th>1</th>\n",
       "      <td>$785.60</td>\n",
       "      <td>34239 Maybird Cir, Fremont, CA 94555</td>\n",
       "      <td>https://www.realtor.com/realestateandhomes-det...</td>\n",
       "      <td>Property Overview - Corner Lot Across From Awa...</td>\n",
       "      <td>NaN</td>\n",
       "      <td>https://p.rdcpix.com/v01/l74c6f341-m1xd-w1020_...</td>\n",
       "      <td>NaN</td>\n",
       "      <td>[[[232 255 236]\\n  [229 251 239]\\n  [248 255 2...</td>\n",
       "    </tr>\n",
       "    <tr>\n",
       "      <th>2</th>\n",
       "      <td>$1,048,000</td>\n",
       "      <td>34226 Petard Ter, Fremont, CA, 94555</td>\n",
       "      <td>https://www.realtor.com/realestateandhomes-det...</td>\n",
       "      <td>Learn more about 34226 Petard Ter\\nAsk a quest...</td>\n",
       "      <td>NaN</td>\n",
       "      <td>https://ap.rdcpix.com/f48ac00cc2a48854c4db90d3...</td>\n",
       "      <td>NaN</td>\n",
       "      <td>[[[255 255 253]\\n  [244 244 242]\\n  [255 255 2...</td>\n",
       "    </tr>\n",
       "    <tr>\n",
       "      <th>3</th>\n",
       "      <td>$1,450,000</td>\n",
       "      <td>5307 Cowboy Ct, Fremont, CA, 94555</td>\n",
       "      <td>https://www.realtor.com/realestateandhomes-det...</td>\n",
       "      <td>Learn more about 5307 Cowboy Ct\\nAsk a questio...</td>\n",
       "      <td>NaN</td>\n",
       "      <td>https://ap.rdcpix.com/5d95ac25e6f851d118484ad9...</td>\n",
       "      <td>NaN</td>\n",
       "      <td>[[[255 255 253]\\n  [244 244 242]\\n  [255 255 2...</td>\n",
       "    </tr>\n",
       "    <tr>\n",
       "      <th>4</th>\n",
       "      <td>$1,589,000</td>\n",
       "      <td>3338 Sanderling Dr, Fremont, CA, 94555</td>\n",
       "      <td>https://www.realtor.com/realestateandhomes-det...</td>\n",
       "      <td>Learn more about 3338 Sanderling Dr\\nAsk a que...</td>\n",
       "      <td>NaN</td>\n",
       "      <td>https://ap.rdcpix.com/172ca358d29d2ac52f4cf589...</td>\n",
       "      <td>NaN</td>\n",
       "      <td>[[[255 255 255]\\n  [255 255 255]\\n  [255 255 2...</td>\n",
       "    </tr>\n",
       "  </tbody>\n",
       "</table>\n",
       "</div>"
      ],
      "text/plain": [
       "   offerPrice                                 address  \\\n",
       "0     $785.60    34239 Maybird Cir, Fremont, CA 94555   \n",
       "1     $785.60    34239 Maybird Cir, Fremont, CA 94555   \n",
       "2  $1,048,000    34226 Petard Ter, Fremont, CA, 94555   \n",
       "3  $1,450,000      5307 Cowboy Ct, Fremont, CA, 94555   \n",
       "4  $1,589,000  3338 Sanderling Dr, Fremont, CA, 94555   \n",
       "\n",
       "                                             pageUrl  \\\n",
       "0  https://www.realtor.com/realestateandhomes-det...   \n",
       "1  https://www.realtor.com/realestateandhomes-det...   \n",
       "2  https://www.realtor.com/realestateandhomes-det...   \n",
       "3  https://www.realtor.com/realestateandhomes-det...   \n",
       "4  https://www.realtor.com/realestateandhomes-det...   \n",
       "\n",
       "                                                text brand  \\\n",
       "0  Property Overview - Corner Lot Across From Awa...   NaN   \n",
       "1  Property Overview - Corner Lot Across From Awa...   NaN   \n",
       "2  Learn more about 34226 Petard Ter\\nAsk a quest...   NaN   \n",
       "3  Learn more about 5307 Cowboy Ct\\nAsk a questio...   NaN   \n",
       "4  Learn more about 3338 Sanderling Dr\\nAsk a que...   NaN   \n",
       "\n",
       "                                            imageUrl features  \\\n",
       "0  https://p.rdcpix.com/v01/l74c6f341-m0xd-w1020_...      NaN   \n",
       "1  https://p.rdcpix.com/v01/l74c6f341-m1xd-w1020_...      NaN   \n",
       "2  https://ap.rdcpix.com/f48ac00cc2a48854c4db90d3...      NaN   \n",
       "3  https://ap.rdcpix.com/5d95ac25e6f851d118484ad9...      NaN   \n",
       "4  https://ap.rdcpix.com/172ca358d29d2ac52f4cf589...      NaN   \n",
       "\n",
       "                                              pixels  \n",
       "0  [[[255 254 245]\\n  [253 250 241]\\n  [235 235 2...  \n",
       "1  [[[232 255 236]\\n  [229 251 239]\\n  [248 255 2...  \n",
       "2  [[[255 255 253]\\n  [244 244 242]\\n  [255 255 2...  \n",
       "3  [[[255 255 253]\\n  [244 244 242]\\n  [255 255 2...  \n",
       "4  [[[255 255 255]\\n  [255 255 255]\\n  [255 255 2...  "
      ]
     },
     "execution_count": 3,
     "metadata": {},
     "output_type": "execute_result"
    }
   ],
   "source": [
    "data = pd.read_csv('../data/clean_merged.csv')\n",
    "data.head()"
   ]
  },
  {
   "cell_type": "code",
   "execution_count": 36,
   "metadata": {},
   "outputs": [
    {
     "data": {
      "text/plain": [
       "<Response [405]>"
      ]
     },
     "execution_count": 36,
     "metadata": {},
     "output_type": "execute_result"
    }
   ],
   "source": [
    "headers = {'User_Agent': 'Mozilla/5.0 (Macintosh; Intel Mac OS X 10_11_2) \\\n",
    "AppleWebKit/601.3.11 (KHTML, like Gecko) Version/9.0.2 Safari/601.3.9', \n",
    "           'Accept-Encoding': 'Identity'}\n",
    "requests.get('https://www.realtor.com/realestateandhomes-detail/34239-Maybird-Cir_Fremont_CA_94555_M19530-21488', \n",
    "             headers=headers)"
   ]
  },
  {
   "cell_type": "code",
   "execution_count": 34,
   "metadata": {},
   "outputs": [
    {
     "data": {
      "text/plain": [
       "'https://www.realtor.com/realestateandhomes-detail/34239-Maybird-Cir_Fremont_CA_94555_M19530-21488'"
      ]
     },
     "execution_count": 34,
     "metadata": {},
     "output_type": "execute_result"
    }
   ],
   "source": [
    "data['pageUrl'][0]"
   ]
  },
  {
   "cell_type": "code",
   "execution_count": 30,
   "metadata": {},
   "outputs": [],
   "source": [
    "soup = BeautifulSoup(requests.get(data['pageUrl'][0]).content, 'html.parser')"
   ]
  },
  {
   "cell_type": "code",
   "execution_count": 37,
   "metadata": {},
   "outputs": [
    {
     "data": {
      "text/plain": [
       "<p>\n",
       "        As you were browsing, something about your browser made us think you might be a bot. There are a few reasons this might happen, including:\n",
       "      </p>"
      ]
     },
     "execution_count": 37,
     "metadata": {},
     "output_type": "execute_result"
    }
   ],
   "source": [
    "soup.find('p')"
   ]
  },
  {
   "cell_type": "code",
   "execution_count": null,
   "metadata": {},
   "outputs": [],
   "source": []
  }
 ],
 "metadata": {
  "kernelspec": {
   "display_name": "Python 3",
   "language": "python",
   "name": "python3"
  },
  "language_info": {
   "codemirror_mode": {
    "name": "ipython",
    "version": 3
   },
   "file_extension": ".py",
   "mimetype": "text/x-python",
   "name": "python",
   "nbconvert_exporter": "python",
   "pygments_lexer": "ipython3",
   "version": "3.7.4"
  }
 },
 "nbformat": 4,
 "nbformat_minor": 4
}
