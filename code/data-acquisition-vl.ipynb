{
 "cells": [
  {
   "cell_type": "code",
   "execution_count": 34,
   "metadata": {},
   "outputs": [],
   "source": [
    "import json\n",
    "import pandas as pd\n",
    "import numpy as np\n",
    "import re\n",
    "import time\n",
    "import requests\n",
    "import os\n",
    "from bs4 import BeautifulSoup"
   ]
  },
  {
   "cell_type": "code",
   "execution_count": 12,
   "metadata": {},
   "outputs": [],
   "source": [
    "# written by Vincent\n",
    "def getUrls(filename):\n",
    "    '''\n",
    "    Takes in a json file name (including the path) produced from a Diffbot crawl of `realtor.com` using image API json file.\n",
    "    Returns a Series with all the unique realtor urls.\n",
    "    '''\n",
    "    f = open(filename)\n",
    "    data = json.load(f)\n",
    "    df = pd.json_normalize(data)\n",
    "    urls = pd.Series(df['anchorUrl'].append(df['pageUrl']).unique())\n",
    "    urls = urls[urls.notna() & urls.str.contains('https://www.realtor.com/realestateandhomes-detail/')]\n",
    "    return urls"
   ]
  },
  {
   "cell_type": "code",
   "execution_count": 13,
   "metadata": {},
   "outputs": [],
   "source": [
    "# written by Samantha Tang\n",
    "def extract_images(url):\n",
    "    \n",
    "    '''\n",
    "    Input: Takes in a home url address\n",
    "    Output: Returns list of urls for photo gallery\n",
    "    '''\n",
    "    \n",
    "    headers = {'User-Agent':'Mozilla/5.0 (Macintosh; Intel Mac OS X 10_11_2) \\\n",
    "               AppleWebKit/601.3.11 (KHTML, like Gecko) Version/9.0.2 Safari/601.3.9','Accept-Encoding': 'identity'}\n",
    "\n",
    "    page = requests.get(URL, headers=headers)\n",
    "    soup = BeautifulSoup(page.content, 'html.parser')\n",
    "    html_filtered = soup.find_all('div', attrs={'class': 'background-item'}) \n",
    "\n",
    "    image_urls = []\n",
    "    for e in html_filtered: \n",
    "        image_urls += re.findall(\"(http.*\\.jpg|\\.png|\\.JPG|\\.PNG)\", str(e))\n",
    "        \n",
    "    return image_urls"
   ]
  },
  {
   "cell_type": "code",
   "execution_count": 31,
   "metadata": {},
   "outputs": [],
   "source": [
    "# written by Parker Nelson\n",
    "def get_content(urls):\n",
    "    ## Given a singular url or list of urls, outputs soup objects\n",
    "    ## This is to prevent a bunch of repeated reqests to Realtor.com\n",
    "    \n",
    "    list_of_soups = []\n",
    "    \n",
    "    for url in urls:\n",
    "        \n",
    "        time.sleep(np.random.uniform(3, 7)) # added by Vincent\n",
    "        \n",
    "        # Samantha's Code to get around bot detection:\n",
    "        # dang, got blocked...\n",
    "        headers = {'User-Agent':'Mozilla/5.0 (Macintosh; Intel Mac OS X 10_11_2) \\\n",
    "           AppleWebKit/601.3.11 (KHTML, like Gecko) Version/9.0.2 Safari/601.3.9','Accept-Encoding': 'identity'}\n",
    "\n",
    "        proxies = {\n",
    "          'http': 'http://119.206.242.196'\n",
    "        }\n",
    "\n",
    "        # might have to reroute ip address\n",
    "        # maybe helpful? https://www.scrapehero.com/how-to-rotate-proxies-and-ip-addresses-using-python-3/\n",
    "\n",
    "        page = requests.get(url.strip(), headers=headers, proxies=proxies)\n",
    "        soup = BeautifulSoup(page.content, 'html.parser')\n",
    "        list_of_soups.append(soup)\n",
    "        \n",
    "    return list_of_soups "
   ]
  },
  {
   "cell_type": "code",
   "execution_count": 76,
   "metadata": {},
   "outputs": [],
   "source": [
    "# written by Parker Nelson\n",
    "def get_images_and_stats(soup_objs, urls):\n",
    "#       Given a bunch of beautifulsoup objects, outputs a dataframe with image urls\n",
    "#       and stats of the image \n",
    "#       Example:\n",
    "#       image_url | most_likley_label | probability | address | num_beds | ... |\n",
    "    \n",
    "#     Looping through soup objects and urls\n",
    "    \n",
    "    result = pd.DataFrame()\n",
    "    \n",
    "    skip_url_count = 0\n",
    "    \n",
    "    for num in range(len(soup_objs)):\n",
    "        i = soup_objs[num]\n",
    "        url = urls[num]\n",
    "        \n",
    "        ###### IMAGE SECTION #####\n",
    "        \n",
    "        # Finding image urls\n",
    "        \n",
    "        # The area of html that's interesting to us with the probabilities\n",
    "         \n",
    "        image_str = re.findall(r'\"home_photos\":{(.*)}]}]},', str(i))\n",
    "        \n",
    "        if not image_str:\n",
    "            skip_url_count += 1\n",
    "            continue\n",
    "        \n",
    "        image_str = image_str[0] + '}]}]'\n",
    "        temp = re.findall(r'\"href\":\"(.*?)(\\.jpg|\\.png|\\.JPG|\\.PNG)', str(image_str))\n",
    "        \n",
    "        # due to re's weird format, we need to combine the tuples\n",
    "        \n",
    "        image_urls = []\n",
    "        for l in temp:\n",
    "            image_urls.append(str(l[0]) + str(l[1]))\n",
    "        \n",
    "        \n",
    "        # looping through the image urls to find the most propable tag for each one with its \n",
    "        # respective probability \n",
    "        \n",
    "        # best_labels is a list with the most likely labels \n",
    "        # best_probabilities is the probability for that label. \n",
    "        # Order is maintained so this should be mapped pretty \n",
    "        # easily to the image_url list when constructing final dataframe\n",
    "        \n",
    "        best_labels =[]\n",
    "        best_probabilities = []\n",
    "        \n",
    "        \n",
    "        for j in image_urls:\n",
    "            \n",
    "            # getting relevant portion of the html that pertains to the image_url\n",
    "            regex_str = j + r\"(.*?)]}\" \n",
    "            probability_str = re.findall(regex_str, str(image_str))\n",
    "            \n",
    "            # getting probabilities and labels\n",
    "            labels = re.findall(r'label\":\"(.*?)\",', str(probability_str))\n",
    "            probabilities = re.findall(r'probability\":(.*?)}', str(probability_str))\n",
    "            probabilities = [float(k) for k in probabilities]\n",
    "    \n",
    "            # creating dataframe to get max probability label\n",
    "            temp = pd.DataFrame({'labels' : labels, 'probabilities': probabilities})\n",
    "            temp = temp.sort_values(by = ['probabilities'], ascending = False)\n",
    "            \n",
    "            try:\n",
    "                best_labels.append(temp.iloc[0,0])\n",
    "            except:\n",
    "                print(j)\n",
    "                print(image_str)\n",
    "                print(probability_str)\n",
    "                print(probabilities)\n",
    "                print(labels)\n",
    "                print(temp)\n",
    "                raise ValueError(\"Temp is most likely empty if you're getting this message.\")\n",
    "            best_probabilities.append(temp.iloc[0,1])\n",
    "            \n",
    "            \n",
    "        ###### PROPERTY DETAIL SECTION #######\n",
    "\n",
    "        # First, let's get the address from the url\n",
    "        # If there's no address, the entry will appear as 'N/A' or just a portion of the address\n",
    "        # such as the city and zipcode\n",
    "            \n",
    "        address = re.findall(r'https://www.realtor.com/realestateandhomes-detail/(.*)', url)[0]\n",
    "        \n",
    "        # I need to make the address fit the dimension of all the images for this house\n",
    "        address = [address for p in best_labels]\n",
    "        \n",
    "        #same as above except accounting for if there's no price found\n",
    "        try:\n",
    "            price = re.findall(r'jsx-1959108432 price\">\\$(.*?)<', str(i))[0]\n",
    "            price = [int(price.replace(',', '')) for p in best_labels]\n",
    "        except:\n",
    "            price = [None for p in best_labels]\n",
    "            \n",
    "        # TODO:\n",
    "        # FINISH ALL OTHER FEATURES\n",
    "            \n",
    "        # updating dataframes\n",
    "        temp2 = pd.DataFrame({'image_url': image_urls, 'label': best_labels, 'probability': best_probabilities,\n",
    "                             'Address' : address, 'Price': price})   \n",
    "        result = pd.concat([result, temp2], axis = 0, ignore_index = True)\n",
    "        \n",
    "    \n",
    "    return result, skip_url_count"
   ]
  },
  {
   "cell_type": "code",
   "execution_count": 77,
   "metadata": {},
   "outputs": [],
   "source": [
    "\"\"\"\n",
    "Includes a time.sleep(uniform(3,7)) to prevent from being blocked by Realtor.com.\n",
    "251 home urls * 5 seconds per url ~ 20 minutes to run. \n",
    "\"\"\"\n",
    "\n",
    "# from Diffbot scraped imageAPI data\n",
    "# home_urls = getUrls(\"../data/bayarea-all-single-family-imageapi-vl.json\")\n",
    "\n",
    "# get soups; ONLY CALL THIS ONCE TO PREVENT BEING BLOCKED\n",
    "# soups = get_content(home_urls.values)\n",
    "\n",
    "# extract final dataframe\n",
    "df, skips = get_images_and_stats(soups, home_urls.values)"
   ]
  },
  {
   "cell_type": "code",
   "execution_count": 78,
   "metadata": {},
   "outputs": [
    {
     "data": {
      "text/plain": [
       "251"
      ]
     },
     "execution_count": 78,
     "metadata": {},
     "output_type": "execute_result"
    }
   ],
   "source": [
    "len(soups)"
   ]
  },
  {
   "cell_type": "code",
   "execution_count": 79,
   "metadata": {},
   "outputs": [
    {
     "data": {
      "text/plain": [
       "((278, 5), 243)"
      ]
     },
     "execution_count": 79,
     "metadata": {},
     "output_type": "execute_result"
    }
   ],
   "source": [
    "df.shape, skips"
   ]
  },
  {
   "cell_type": "code",
   "execution_count": 74,
   "metadata": {
    "scrolled": true
   },
   "outputs": [
    {
     "data": {
      "text/plain": [
       "False"
      ]
     },
     "execution_count": 74,
     "metadata": {},
     "output_type": "execute_result"
    }
   ],
   "source": [
    "i = soups[7]\n",
    "url = home_urls.values[7]\n",
    "image_str = re.findall(r'\"home_photos\":{(.*)}]}]},', str(i))"
   ]
  },
  {
   "cell_type": "code",
   "execution_count": 95,
   "metadata": {},
   "outputs": [
    {
     "data": {
      "text/plain": [
       "1"
      ]
     },
     "execution_count": 95,
     "metadata": {},
     "output_type": "execute_result"
    }
   ],
   "source": [
    "skip_url_count = 0\n",
    "for num in [10]:\n",
    "        i = soups[num]\n",
    "         \n",
    "        image_str = re.findall(r'\"home_photos\":{(.*)}]}]},', str(i))\n",
    "        \n",
    "        if not image_str:\n",
    "            skip_url_count += 1\n",
    "            continue\n",
    "        \n",
    "        image_str = image_str[0] + '}]}]'\n",
    "        temp = re.findall(r'\"href\":\"(.*?)(\\.jpg|\\.png|\\.JPG|\\.PNG)', str(image_str))\n",
    "        \n",
    "        image_urls = []\n",
    "        for l in temp:\n",
    "            image_urls.append(str(l[0]) + str(l[1]))\n",
    "            \n",
    "skip_url_count"
   ]
  },
  {
   "cell_type": "code",
   "execution_count": 94,
   "metadata": {},
   "outputs": [
    {
     "data": {
      "text/plain": [
       "'https://www.realtor.com/realestateandhomes-detail/15720-Shady-Ln_Los-Gatos_CA_95032_M29391-20851'"
      ]
     },
     "execution_count": 94,
     "metadata": {},
     "output_type": "execute_result"
    }
   ],
   "source": [
    "home_urls.values[10]"
   ]
  },
  {
   "cell_type": "code",
   "execution_count": null,
   "metadata": {},
   "outputs": [],
   "source": []
  }
 ],
 "metadata": {
  "kernelspec": {
   "display_name": "Python 3",
   "language": "python",
   "name": "python3"
  },
  "language_info": {
   "codemirror_mode": {
    "name": "ipython",
    "version": 3
   },
   "file_extension": ".py",
   "mimetype": "text/x-python",
   "name": "python",
   "nbconvert_exporter": "python",
   "pygments_lexer": "ipython3",
   "version": "3.8.3"
  }
 },
 "nbformat": 4,
 "nbformat_minor": 4
}
