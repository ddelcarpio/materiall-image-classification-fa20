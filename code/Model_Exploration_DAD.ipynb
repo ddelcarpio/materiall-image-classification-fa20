{
 "cells": [
  {
   "cell_type": "code",
   "execution_count": 3,
   "metadata": {},
   "outputs": [
    {
     "name": "stdout",
     "output_type": "stream",
     "text": [
      "Processed Image saved successfully in your current working directory.\n"
     ]
    },
    {
     "data": {
      "text/plain": [
       "(array([[1, 1, 1, ..., 1, 1, 1],\n",
       "        [1, 1, 1, ..., 1, 1, 1],\n",
       "        [1, 1, 1, ..., 1, 1, 1],\n",
       "        ...,\n",
       "        [1, 1, 1, ..., 1, 1, 1],\n",
       "        [1, 1, 1, ..., 1, 1, 1],\n",
       "        [1, 1, 1, ..., 1, 1, 1]], dtype=int64),\n",
       " array([[[107,  99,  95],\n",
       "         [108, 100,  96],\n",
       "         [108, 100,  97],\n",
       "         ...,\n",
       "         [112, 113, 111],\n",
       "         [118, 119, 117],\n",
       "         [121, 122, 119]],\n",
       " \n",
       "        [[110, 100,  97],\n",
       "         [110, 100,  97],\n",
       "         [110, 100,  97],\n",
       "         ...,\n",
       "         [116, 117, 115],\n",
       "         [116, 117, 115],\n",
       "         [118, 119, 117]],\n",
       " \n",
       "        [[111, 102,  99],\n",
       "         [111, 102,  98],\n",
       "         [110, 101,  98],\n",
       "         ...,\n",
       "         [116, 117, 115],\n",
       "         [117, 118, 116],\n",
       "         [115, 116, 114]],\n",
       " \n",
       "        ...,\n",
       " \n",
       "        [[119, 126, 128],\n",
       "         [120, 127, 129],\n",
       "         [120, 128, 130],\n",
       "         ...,\n",
       "         [118, 118, 116],\n",
       "         [118, 118, 116],\n",
       "         [117, 118, 116]],\n",
       " \n",
       "        [[117, 125, 127],\n",
       "         [117, 124, 126],\n",
       "         [118, 126, 128],\n",
       "         ...,\n",
       "         [116, 116, 114],\n",
       "         [116, 116, 114],\n",
       "         [117, 117, 116]],\n",
       " \n",
       "        [[116, 124, 126],\n",
       "         [119, 126, 128],\n",
       "         [118, 125, 128],\n",
       "         ...,\n",
       "         [119, 120, 118],\n",
       "         [120, 120, 118],\n",
       "         [119, 119, 117]]], dtype=uint8))"
      ]
     },
     "execution_count": 3,
     "metadata": {},
     "output_type": "execute_result"
    }
   ],
   "source": [
    "import pixellib\n",
    "from pixellib.semantic import semantic_segmentation\n",
    "\n",
    "segment_image = semantic_segmentation()\n",
    "segment_image.load_ade20k_model(\"deeplabv3_xception65_ade20k.h5\")\n",
    "segment_image.segmentAsAde20k(\"../data/kitchen.jpg\", output_image_name= \"kitchen2.jpg\",overlay = True)"
   ]
  },
  {
   "cell_type": "code",
   "execution_count": 5,
   "metadata": {},
   "outputs": [],
   "source": []
  },
  {
   "cell_type": "code",
   "execution_count": null,
   "metadata": {},
   "outputs": [],
   "source": []
  },
  {
   "cell_type": "code",
   "execution_count": null,
   "metadata": {},
   "outputs": [],
   "source": []
  }
 ],
 "metadata": {
  "kernelspec": {
   "display_name": "Python 3",
   "language": "python",
   "name": "python3"
  },
  "language_info": {
   "codemirror_mode": {
    "name": "ipython",
    "version": 3
   },
   "file_extension": ".py",
   "mimetype": "text/x-python",
   "name": "python",
   "nbconvert_exporter": "python",
   "pygments_lexer": "ipython3",
   "version": "3.7.3"
  }
 },
 "nbformat": 4,
 "nbformat_minor": 4
}
