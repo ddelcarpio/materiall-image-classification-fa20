{
 "cells": [
  {
   "cell_type": "markdown",
   "metadata": {},
   "source": [
    "# Preprocessing"
   ]
  },
  {
   "cell_type": "markdown",
   "metadata": {},
   "source": [
    "The goal of this notebook is to create a function that will be able to extract the image urls and specs for each house scraped from Realtor.com."
   ]
  },
  {
   "cell_type": "code",
   "execution_count": null,
   "metadata": {},
   "outputs": [],
   "source": [
    "# ! pip install ipynb"
   ]
  },
  {
   "cell_type": "code",
   "execution_count": 1,
   "metadata": {},
   "outputs": [],
   "source": [
    "import pandas as pd\n",
    "import numpy as np\n",
    "from bs4 import BeautifulSoup\n",
    "\n",
    "import json\n",
    "import re\n",
    "import os\n",
    "import requests\n",
    "import ipynb"
   ]
  },
  {
   "cell_type": "code",
   "execution_count": 2,
   "metadata": {},
   "outputs": [],
   "source": [
    "# Samantha's Function:\n",
    "### NOTE: from ipynb.fs.full.prepocessing_ST import extract_images DID NOT WORK FOR ME\n",
    "### So this means we may have to be more creative with importing notebooks.\n",
    "\n",
    "#Note: This doesn't take into account exceptions, should prob include that later too\n",
    "\n",
    "def extract_images(url):\n",
    "    \n",
    "    '''\n",
    "    Input: Takes in a home url address\n",
    "    Output: Returns list of urls for photo gallery\n",
    "    '''\n",
    "    \n",
    "\n",
    "    headers = {'User-Agent':'Mozilla/5.0 (Macintosh; Intel Mac OS X 10_11_2) \\\n",
    "               AppleWebKit/601.3.11 (KHTML, like Gecko) Version/9.0.2 Safari/601.3.9','Accept-Encoding': 'identity'}\n",
    "\n",
    "    page = requests.get(URL, headers=headers)\n",
    "    soup = BeautifulSoup(page.content, 'html.parser')\n",
    "    html_filtered = soup.find_all('div', attrs={'class': 'background-item'}) \n",
    "\n",
    "    image_urls = []\n",
    "    for e in html_filtered: \n",
    "        image_urls += re.findall(\"(http.*\\.jpg|\\.png|\\.JPG|\\.PNG)\", str(e))\n",
    "        \n",
    "    return image_urls"
   ]
  },
  {
   "cell_type": "markdown",
   "metadata": {},
   "source": [
    "First, I'm manually inputting some test urls that the scraper will provide. I just took the top 5 listings from a search in Fremont, CA. Then, I'll loop through these with my function to output a dataframe with the relevant information."
   ]
  },
  {
   "cell_type": "code",
   "execution_count": 3,
   "metadata": {},
   "outputs": [],
   "source": [
    "test_urls = ['https://www.realtor.com/realestateandhomes-detail/38066-Stenhammer-Dr_Fremont_CA_94536_M26705-99955',\n",
    "            'https://www.realtor.com/realestateandhomes-detail/120-Fisk-Ter_Fremont_CA_94538_M16383-48817',\n",
    "            'https://www.realtor.com/realestateandhomes-detail/4267-Michael-Ave_Fremont_CA_94538_M24837-74413',\n",
    "            'https://www.realtor.com/realestateandhomes-detail/42232-Mission-Blvd_Fremont_CA_94539_M16238-69850',\n",
    "            'https://www.realtor.com/realestateandhomes-detail/Fremont_CA_94538_M20599-22956']"
   ]
  },
  {
   "cell_type": "markdown",
   "metadata": {},
   "source": [
    "This function loads all the URLs and outputs a list of BeautifulSoup objects for each one. I made this a separate function because I didn't want to get blocked; this way I only have to ask for the html once and then I have it in the local environment. $\\textbf{TODO: }$ We need to update this function to allow it to open thousands of URLs without getting blocked."
   ]
  },
  {
   "cell_type": "code",
   "execution_count": 4,
   "metadata": {},
   "outputs": [],
   "source": [
    "#I'm just going to load all the pages first so there's only one request to the site for the five pages\n",
    "\n",
    "def get_content(urls):\n",
    "    ## Given a singular url or list of urls, outputs soup objects\n",
    "    ## This is to prevent a bunch of repeated reqests to Realtor.com\n",
    "    \n",
    "    if type(urls) != list:\n",
    "        urls = [urls]\n",
    "    \n",
    "    list_of_soups = []\n",
    "    \n",
    "    for url in urls:\n",
    "        #Load html\n",
    "        \n",
    "        # Samantha's Code to get around bot detection:\n",
    "        # dang, got blocked...\n",
    "        headers = {'User-Agent':'Mozilla/5.0 (Macintosh; Intel Mac OS X 10_11_2) \\\n",
    "           AppleWebKit/601.3.11 (KHTML, like Gecko) Version/9.0.2 Safari/601.3.9','Accept-Encoding': 'identity'}\n",
    "\n",
    "        proxies = {\n",
    "          'http': 'http://119.206.242.196'\n",
    "        }\n",
    "\n",
    "        # might have to reroute ip address\n",
    "        # maybe helpful? https://www.scrapehero.com/how-to-rotate-proxies-and-ip-addresses-using-python-3/\n",
    "\n",
    "        page = requests.get(url, headers=headers, proxies=proxies)\n",
    "        soup = BeautifulSoup(page.content, 'html.parser')\n",
    "        list_of_soups.append(soup)\n",
    "        \n",
    "    return list_of_soups\n",
    "\n",
    "        "
   ]
  },
  {
   "cell_type": "markdown",
   "metadata": {},
   "source": [
    "This function takes a bunch of BeautifulSoup objects and returns a Dataframe with each image url and the associated information about it such as:\n",
    "1. The most likely label\n",
    "2. The probability of that label\n",
    "3. The Address\n",
    "4. Price\n",
    "5. Number of Beds\n",
    "6. Number of Baths\n",
    "7. Year Built\n",
    "8. Property Type \n",
    "9. Square footage\n",
    "10. Garage Spaces (0 if no garage)\n"
   ]
  },
  {
   "cell_type": "code",
   "execution_count": 5,
   "metadata": {},
   "outputs": [],
   "source": [
    "def get_images_and_stats(soup_objs, urls):\n",
    "#       Given a bunch of beautifulsoup objects, outputs a dataframe with image urls\n",
    "#       and stats of the image \n",
    "#       Example:\n",
    "#       image_url | most_likley_label | probability | address | num_beds | ... |\n",
    "    \n",
    "#     Looping through soup objects and urls\n",
    "    \n",
    "    result = pd.DataFrame()\n",
    "    \n",
    "    for num in np.arange(0, len(soup_objs)):\n",
    "        i = soup_objs[num]\n",
    "        url = urls[num]\n",
    "        \n",
    "        ###### IMAGE SECTION #####\n",
    "        \n",
    "        # Finding image urls\n",
    "        \n",
    "        # The area of html that's interesting to us with the probabilities\n",
    "         \n",
    "        image_str = re.findall(r'\"home_photos\":{(.*)}]}]},', str(i))\n",
    "        image_str = image_str[0] + '}]}]'\n",
    "        temp = re.findall(r'\"href\":\"(.*?)(\\.jpg|\\.png|\\.JPG|\\.PNG)', str(image_str))\n",
    "        \n",
    "        # due to re's weird format, we need to combine the tuples\n",
    "        \n",
    "        image_urls = []\n",
    "        for l in temp:\n",
    "            image_urls.append(str(l[0]) + str(l[1]))\n",
    "        \n",
    "        \n",
    "        # looping through the image urls to find the most propable tag for each one with its \n",
    "        # respective probability \n",
    "        \n",
    "        # best_labels is a list with the most likely labels \n",
    "        # best_probabilities is the probability for that label. \n",
    "        # Order is maintained so this should be mapped pretty \n",
    "        # easily to the image_url list when constructing final dataframe\n",
    "        \n",
    "        best_labels =[]\n",
    "        best_probabilities = []\n",
    "        \n",
    "        \n",
    "        for j in image_urls:\n",
    "            \n",
    "            # getting relevant portion of the html that pertains to the image_url\n",
    "            regex_str = j + r\"(.*?)]}\" \n",
    "            probability_str = re.findall(regex_str, str(image_str))\n",
    "            \n",
    "            # getting probabilities and labels\n",
    "            labels = re.findall(r'label\":\"(.*?)\",', str(probability_str))\n",
    "            probabilities = re.findall(r'probability\":(.*?)}', str(probability_str))\n",
    "            probabilities = [float(k) for k in probabilities]\n",
    "    \n",
    "            # creating dataframe to get max probability label\n",
    "            temp = pd.DataFrame({'labels' : labels, 'probabilities': probabilities})\n",
    "            temp = temp.sort_values(by = ['probabilities'], ascending = False)\n",
    "            \n",
    "            try:\n",
    "                best_labels.append(temp.iloc[0,0])\n",
    "            except:\n",
    "                print(j)\n",
    "                print(image_str)\n",
    "                print(probability_str)\n",
    "                print(probabilities)\n",
    "                print(labels)\n",
    "                print(temp)\n",
    "                raise ValueError(\"Temp is most likely empty if you're getting this message.\")\n",
    "            best_probabilities.append(temp.iloc[0,1])\n",
    "            \n",
    "            \n",
    "        ###### PROPERTY DETAIL SECTION #######\n",
    "\n",
    "        # First, let's get the address from the url\n",
    "        # If there's no address, the entry will appear as 'N/A' or just a portion of the address\n",
    "        # such as the city and zipcode\n",
    "            \n",
    "        address = re.findall(r'https://www.realtor.com/realestateandhomes-detail/(.*)', url)[0]\n",
    "        \n",
    "        # I need to make the address fit the dimension of all the images for this house\n",
    "        address = [address for p in best_labels]\n",
    "        \n",
    "        #same as above except accounting for if there's no price found\n",
    "        try:\n",
    "            price = re.findall(r'jsx-1959108432 price\">\\$(.*?)<', str(i))[0]\n",
    "            price = [int(price.replace(',', '')) for p in best_labels]\n",
    "        except:\n",
    "            price = [None for p in best_labels]\n",
    "            \n",
    "        # TODO:\n",
    "        # FINISH ALL OTHER FEATURES\n",
    "            \n",
    "        # updating dataframes\n",
    "        temp2 = pd.DataFrame({'image_url': image_urls, 'label': best_labels, 'probability': best_probabilities,\n",
    "                             'Address' : address, 'Price': price})   \n",
    "        result = pd.concat([result, temp2], axis = 0, ignore_index = True)\n",
    "        \n",
    "    \n",
    "    return result\n",
    "\n",
    "\n"
   ]
  },
  {
   "cell_type": "code",
   "execution_count": 7,
   "metadata": {},
   "outputs": [],
   "source": [
    "# ONLY CALL THIS ONCE TO PREVENT BEING BLOCKED\n",
    "# soups = get_content(test_urls)"
   ]
  },
  {
   "cell_type": "code",
   "execution_count": 8,
   "metadata": {},
   "outputs": [
    {
     "data": {
      "text/html": [
       "<div>\n",
       "<style scoped>\n",
       "    .dataframe tbody tr th:only-of-type {\n",
       "        vertical-align: middle;\n",
       "    }\n",
       "\n",
       "    .dataframe tbody tr th {\n",
       "        vertical-align: top;\n",
       "    }\n",
       "\n",
       "    .dataframe thead th {\n",
       "        text-align: right;\n",
       "    }\n",
       "</style>\n",
       "<table border=\"1\" class=\"dataframe\">\n",
       "  <thead>\n",
       "    <tr style=\"text-align: right;\">\n",
       "      <th></th>\n",
       "      <th>image_url</th>\n",
       "      <th>label</th>\n",
       "      <th>probability</th>\n",
       "      <th>Address</th>\n",
       "      <th>Price</th>\n",
       "    </tr>\n",
       "  </thead>\n",
       "  <tbody>\n",
       "    <tr>\n",
       "      <th>0</th>\n",
       "      <td>https://ap.rdcpix.com/d7b0b0ef57213b43da91b2f1...</td>\n",
       "      <td>house_view</td>\n",
       "      <td>0.987999</td>\n",
       "      <td>38066-Stenhammer-Dr_Fremont_CA_94536_M26705-99955</td>\n",
       "      <td>875000</td>\n",
       "    </tr>\n",
       "    <tr>\n",
       "      <th>1</th>\n",
       "      <td>https://ap.rdcpix.com/d7b0b0ef57213b43da91b2f1...</td>\n",
       "      <td>yard</td>\n",
       "      <td>0.527620</td>\n",
       "      <td>38066-Stenhammer-Dr_Fremont_CA_94536_M26705-99955</td>\n",
       "      <td>875000</td>\n",
       "    </tr>\n",
       "    <tr>\n",
       "      <th>2</th>\n",
       "      <td>https://ap.rdcpix.com/d7b0b0ef57213b43da91b2f1...</td>\n",
       "      <td>porch</td>\n",
       "      <td>0.822153</td>\n",
       "      <td>38066-Stenhammer-Dr_Fremont_CA_94536_M26705-99955</td>\n",
       "      <td>875000</td>\n",
       "    </tr>\n",
       "    <tr>\n",
       "      <th>3</th>\n",
       "      <td>https://ap.rdcpix.com/d7b0b0ef57213b43da91b2f1...</td>\n",
       "      <td>living_room</td>\n",
       "      <td>0.992320</td>\n",
       "      <td>38066-Stenhammer-Dr_Fremont_CA_94536_M26705-99955</td>\n",
       "      <td>875000</td>\n",
       "    </tr>\n",
       "    <tr>\n",
       "      <th>4</th>\n",
       "      <td>https://ap.rdcpix.com/d7b0b0ef57213b43da91b2f1...</td>\n",
       "      <td>living_room</td>\n",
       "      <td>0.999825</td>\n",
       "      <td>38066-Stenhammer-Dr_Fremont_CA_94536_M26705-99955</td>\n",
       "      <td>875000</td>\n",
       "    </tr>\n",
       "  </tbody>\n",
       "</table>\n",
       "</div>"
      ],
      "text/plain": [
       "                                           image_url        label  \\\n",
       "0  https://ap.rdcpix.com/d7b0b0ef57213b43da91b2f1...   house_view   \n",
       "1  https://ap.rdcpix.com/d7b0b0ef57213b43da91b2f1...         yard   \n",
       "2  https://ap.rdcpix.com/d7b0b0ef57213b43da91b2f1...        porch   \n",
       "3  https://ap.rdcpix.com/d7b0b0ef57213b43da91b2f1...  living_room   \n",
       "4  https://ap.rdcpix.com/d7b0b0ef57213b43da91b2f1...  living_room   \n",
       "\n",
       "   probability                                            Address   Price  \n",
       "0     0.987999  38066-Stenhammer-Dr_Fremont_CA_94536_M26705-99955  875000  \n",
       "1     0.527620  38066-Stenhammer-Dr_Fremont_CA_94536_M26705-99955  875000  \n",
       "2     0.822153  38066-Stenhammer-Dr_Fremont_CA_94536_M26705-99955  875000  \n",
       "3     0.992320  38066-Stenhammer-Dr_Fremont_CA_94536_M26705-99955  875000  \n",
       "4     0.999825  38066-Stenhammer-Dr_Fremont_CA_94536_M26705-99955  875000  "
      ]
     },
     "execution_count": 8,
     "metadata": {},
     "output_type": "execute_result"
    }
   ],
   "source": [
    "df = get_images_and_stats(soups, test_urls)\n",
    "df.head()"
   ]
  },
  {
   "cell_type": "code",
   "execution_count": 9,
   "metadata": {},
   "outputs": [
    {
     "data": {
      "text/plain": [
       "(148, 5)"
      ]
     },
     "execution_count": 9,
     "metadata": {},
     "output_type": "execute_result"
    }
   ],
   "source": [
    "df.shape"
   ]
  },
  {
   "cell_type": "code",
   "execution_count": 10,
   "metadata": {},
   "outputs": [],
   "source": [
    "\n",
    "query = df[df['probability'] > .95]"
   ]
  },
  {
   "cell_type": "code",
   "execution_count": 11,
   "metadata": {},
   "outputs": [
    {
     "data": {
      "text/plain": [
       "(98, 5)"
      ]
     },
     "execution_count": 11,
     "metadata": {},
     "output_type": "execute_result"
    }
   ],
   "source": [
    "query.shape"
   ]
  },
  {
   "cell_type": "code",
   "execution_count": 12,
   "metadata": {},
   "outputs": [
    {
     "data": {
      "text/html": [
       "<div>\n",
       "<style scoped>\n",
       "    .dataframe tbody tr th:only-of-type {\n",
       "        vertical-align: middle;\n",
       "    }\n",
       "\n",
       "    .dataframe tbody tr th {\n",
       "        vertical-align: top;\n",
       "    }\n",
       "\n",
       "    .dataframe thead th {\n",
       "        text-align: right;\n",
       "    }\n",
       "</style>\n",
       "<table border=\"1\" class=\"dataframe\">\n",
       "  <thead>\n",
       "    <tr style=\"text-align: right;\">\n",
       "      <th></th>\n",
       "      <th>image_url</th>\n",
       "      <th>label</th>\n",
       "    </tr>\n",
       "  </thead>\n",
       "  <tbody>\n",
       "    <tr>\n",
       "      <th>0</th>\n",
       "      <td>https://ap.rdcpix.com/d7b0b0ef57213b43da91b2f1...</td>\n",
       "      <td>house_view</td>\n",
       "    </tr>\n",
       "    <tr>\n",
       "      <th>3</th>\n",
       "      <td>https://ap.rdcpix.com/d7b0b0ef57213b43da91b2f1...</td>\n",
       "      <td>living_room</td>\n",
       "    </tr>\n",
       "    <tr>\n",
       "      <th>4</th>\n",
       "      <td>https://ap.rdcpix.com/d7b0b0ef57213b43da91b2f1...</td>\n",
       "      <td>living_room</td>\n",
       "    </tr>\n",
       "    <tr>\n",
       "      <th>5</th>\n",
       "      <td>https://ap.rdcpix.com/d7b0b0ef57213b43da91b2f1...</td>\n",
       "      <td>living_room</td>\n",
       "    </tr>\n",
       "    <tr>\n",
       "      <th>6</th>\n",
       "      <td>https://ap.rdcpix.com/d7b0b0ef57213b43da91b2f1...</td>\n",
       "      <td>living_room</td>\n",
       "    </tr>\n",
       "  </tbody>\n",
       "</table>\n",
       "</div>"
      ],
      "text/plain": [
       "                                           image_url        label\n",
       "0  https://ap.rdcpix.com/d7b0b0ef57213b43da91b2f1...   house_view\n",
       "3  https://ap.rdcpix.com/d7b0b0ef57213b43da91b2f1...  living_room\n",
       "4  https://ap.rdcpix.com/d7b0b0ef57213b43da91b2f1...  living_room\n",
       "5  https://ap.rdcpix.com/d7b0b0ef57213b43da91b2f1...  living_room\n",
       "6  https://ap.rdcpix.com/d7b0b0ef57213b43da91b2f1...  living_room"
      ]
     },
     "execution_count": 12,
     "metadata": {},
     "output_type": "execute_result"
    }
   ],
   "source": [
    "images_for_nn = query[['image_url', 'label']]\n",
    "images_for_nn.head()"
   ]
  },
  {
   "cell_type": "code",
   "execution_count": 13,
   "metadata": {},
   "outputs": [
    {
     "data": {
      "text/plain": [
       "living_room     23\n",
       "bedroom         22\n",
       "bathroom        13\n",
       "kitchen         11\n",
       "house_view       7\n",
       "dining_room      7\n",
       "yard             5\n",
       "garage           3\n",
       "porch_yard       2\n",
       "laundry_room     2\n",
       "porch            1\n",
       "road_view        1\n",
       "unknown          1\n",
       "Name: label, dtype: int64"
      ]
     },
     "execution_count": 13,
     "metadata": {},
     "output_type": "execute_result"
    }
   ],
   "source": [
    "images_for_nn['label'].value_counts()"
   ]
  },
  {
   "cell_type": "markdown",
   "metadata": {},
   "source": [
    "### Now we neeed to open and convert images into something that a neural net can use."
   ]
  },
  {
   "cell_type": "markdown",
   "metadata": {},
   "source": [
    "Please check out the preprocessing_images_PN notebook for a more exploratory and detailed explanation of what's going on because I included a lot of that stuff here just because this was the pipline we were workinking on."
   ]
  },
  {
   "cell_type": "code",
   "execution_count": 14,
   "metadata": {},
   "outputs": [],
   "source": [
    "from skimage import io\n",
    "import skimage\n",
    "import cv2\n",
    "from keras.utils import np_utils\n",
    "import tensorflow as tf\n",
    "import keras"
   ]
  },
  {
   "cell_type": "code",
   "execution_count": 15,
   "metadata": {},
   "outputs": [],
   "source": [
    "# !pip install opencv-python\n",
    "# !pip install keras\n",
    "# !conda install tensorflow\n",
    "# !pip install tensorflow-io"
   ]
  },
  {
   "cell_type": "code",
   "execution_count": 37,
   "metadata": {},
   "outputs": [],
   "source": []
  },
  {
   "cell_type": "code",
   "execution_count": 31,
   "metadata": {},
   "outputs": [],
   "source": [
    "# %%writefile preprocess_image.py\n",
    "\n",
    "try:\n",
    "    import pandas as pd\n",
    "    import numpy as np\n",
    "    from bs4 import BeautifulSoup\n",
    "\n",
    "    import json\n",
    "    import re\n",
    "    import os\n",
    "    import requests\n",
    "    import ipynb\n",
    "\n",
    "    from skimage import io\n",
    "    import skimage\n",
    "    import cv2\n",
    "    from keras.utils import np_utils\n",
    "    import keras\n",
    "    import tensorflow as tf\n",
    "    \n",
    "    \n",
    "except:\n",
    "    print(\"If you're reading this, some required packages are not installed. Here is a list of the packages required:\")\n",
    "    \n",
    "    print('opencv-python')\n",
    "    print('keras')\n",
    "    print('tensorflow')\n",
    "    print('tensorflow-io')\n",
    "    print('ipynb')\n",
    "    print('pandas')\n",
    "    print('numpy')\n",
    "    \n",
    "    raise ValueError()\n",
    "    \n",
    "\n",
    "def preprocess_image(image_urls_df, IMG_SIZE = 100):\n",
    "    # Given a dataframe with two columns['image_urls', 'label'], reads image urls into pixels, \n",
    "    # converts them to grayscale, standardizes the size and shape and returns a numpy array\n",
    "    # of the converted images ready to be plugged into a keras neural net\n",
    "    \n",
    "    # Converted images are of dimensions (num_images, grayscale_x, grayscale_y)\n",
    "    # where num_images --> number of images in image_urls\n",
    "    # grayscale_x, grayscale_y --> 2d grid where postion indicates the pixel position\n",
    "    #                              and the number in that position is the standardized \n",
    "    #                              grayscale integer from 0 to 1\n",
    "    \n",
    "    # The IMG_SIZE constant is the length of a side in the square that is the \n",
    "    # converted image\n",
    "    # ie the converted size of the images is 25X25 pixels using the default\n",
    "    # value above\n",
    "    \n",
    "    df = image_urls_df.copy()\n",
    "    df['image_url'] = df['image_url'].apply(lambda x: io.imread(x)).to_numpy()\n",
    "    \n",
    "    # Separating data into X and y while maintaining the right shape for the NN\n",
    "    X = df.drop(\"label\", axis = 1).to_numpy()\n",
    "    \n",
    "    # Thinking about including y in the output, but that might mess up the pipeline\n",
    "    # y = df['label'].to_numpy()\n",
    "    \n",
    "    def convert(data):\n",
    "        # Converts data to be constant size/shape/color \n",
    "        # Also put it in the right shape to be put into a neural net\n",
    "        def change_img(image):\n",
    "            #image = skimage.color.rgb2gray(image)\n",
    "            return cv2.resize(image, (IMG_SIZE, IMG_SIZE))\n",
    "    \n",
    "        return np.asarray([change_img(i) for i in data])\n",
    "    \n",
    "    \n",
    "    X = np.asarray([convert(i) for i in X])\n",
    "    \n",
    "    # Normalizing data to be in range [0,1] as opposed to [0,255]\n",
    "    X = X / 255\n",
    "    \n",
    "    \n",
    "    return X"
   ]
  },
  {
   "cell_type": "code",
   "execution_count": 41,
   "metadata": {},
   "outputs": [],
   "source": [
    "prep = preprocess_image(images_for_nn, IMG_SIZE = 100)"
   ]
  },
  {
   "cell_type": "code",
   "execution_count": 42,
   "metadata": {},
   "outputs": [
    {
     "data": {
      "text/plain": [
       "(98, 1, 100, 100, 3)"
      ]
     },
     "execution_count": 42,
     "metadata": {},
     "output_type": "execute_result"
    }
   ],
   "source": [
    "prep.shape"
   ]
  },
  {
   "cell_type": "code",
   "execution_count": 43,
   "metadata": {},
   "outputs": [
    {
     "data": {
      "text/plain": [
       "<matplotlib.image.AxesImage at 0x221b3bbcd60>"
      ]
     },
     "execution_count": 43,
     "metadata": {},
     "output_type": "execute_result"
    },
    {
     "data": {
      "image/png": "[encoded data removed]",
      "text/plain": [
       "<Figure size 432x288 with 1 Axes>"
      ]
     },
     "metadata": {
      "needs_background": "light"
     },
     "output_type": "display_data"
    }
   ],
   "source": [
    "io.imshow(prep[0][0])"
   ]
  },
  {
   "cell_type": "code",
   "execution_count": 22,
   "metadata": {},
   "outputs": [],
   "source": [
    "img = io.imread(images_for_nn['image_url'][0])"
   ]
  },
  {
   "cell_type": "code",
   "execution_count": 24,
   "metadata": {},
   "outputs": [
    {
     "data": {
      "text/plain": [
       "(80, 120, 3)"
      ]
     },
     "execution_count": 24,
     "metadata": {},
     "output_type": "execute_result"
    }
   ],
   "source": [
    "img.shape"
   ]
  },
  {
   "cell_type": "code",
   "execution_count": 26,
   "metadata": {},
   "outputs": [],
   "source": [
    "resized = cv2.resize(img, (25,25))"
   ]
  },
  {
   "cell_type": "code",
   "execution_count": 28,
   "metadata": {},
   "outputs": [
    {
     "data": {
      "text/plain": [
       "(25, 25, 3)"
      ]
     },
     "execution_count": 28,
     "metadata": {},
     "output_type": "execute_result"
    }
   ],
   "source": [
    "resized.shape"
   ]
  },
  {
   "cell_type": "code",
   "execution_count": 23,
   "metadata": {},
   "outputs": [],
   "source": [
    "### Second attempt at above specifically for vgg16\n",
    "\n",
    "# making copy just for safety\n",
    "image_df = images_for_nn.copy()\n",
    "\n",
    "\n",
    "image_df['image'] = image_df['image_url'].apply(lambda x: io.imread(x)).to_numpy()\n",
    "\n",
    "\n",
    "\n"
   ]
  },
  {
   "cell_type": "code",
   "execution_count": 32,
   "metadata": {},
   "outputs": [
    {
     "ename": "ValueError",
     "evalue": "setting an array element with a sequence.",
     "output_type": "error",
     "traceback": [
      "\u001b[1;31m---------------------------------------------------------------------------\u001b[0m",
      "\u001b[1;31mTypeError\u001b[0m                                 Traceback (most recent call last)",
      "\u001b[1;31mTypeError\u001b[0m: only size-1 arrays can be converted to Python scalars",
      "\nThe above exception was the direct cause of the following exception:\n",
      "\u001b[1;31mValueError\u001b[0m                                Traceback (most recent call last)",
      "\u001b[1;32m<ipython-input-32-699f0bbce0c5>\u001b[0m in \u001b[0;36m<module>\u001b[1;34m\u001b[0m\n\u001b[1;32m----> 1\u001b[1;33m \u001b[0minput_arr\u001b[0m \u001b[1;33m=\u001b[0m \u001b[0mimage_df\u001b[0m\u001b[1;33m.\u001b[0m\u001b[0mdrop\u001b[0m\u001b[1;33m(\u001b[0m\u001b[1;33m[\u001b[0m\u001b[1;34m\"label\"\u001b[0m\u001b[1;33m,\u001b[0m \u001b[1;34m\"image_url\"\u001b[0m\u001b[1;33m]\u001b[0m\u001b[1;33m,\u001b[0m \u001b[0maxis\u001b[0m \u001b[1;33m=\u001b[0m \u001b[1;36m1\u001b[0m\u001b[1;33m)\u001b[0m\u001b[1;33m.\u001b[0m\u001b[0mto_numpy\u001b[0m\u001b[1;33m(\u001b[0m\u001b[1;33m)\u001b[0m\u001b[1;33m.\u001b[0m\u001b[0mastype\u001b[0m\u001b[1;33m(\u001b[0m\u001b[0mnp\u001b[0m\u001b[1;33m.\u001b[0m\u001b[0mfloat\u001b[0m\u001b[1;33m)\u001b[0m\u001b[1;33m\u001b[0m\u001b[1;33m\u001b[0m\u001b[0m\n\u001b[0m\u001b[0;32m      2\u001b[0m \u001b[1;33m\u001b[0m\u001b[0m\n\u001b[0;32m      3\u001b[0m \u001b[0mcopied\u001b[0m \u001b[1;33m=\u001b[0m \u001b[0mnp\u001b[0m\u001b[1;33m.\u001b[0m\u001b[0mcopy\u001b[0m\u001b[1;33m(\u001b[0m\u001b[0minput_arr\u001b[0m\u001b[1;33m)\u001b[0m\u001b[1;33m\u001b[0m\u001b[1;33m\u001b[0m\u001b[0m\n\u001b[0;32m      4\u001b[0m \u001b[1;33m\u001b[0m\u001b[0m\n\u001b[0;32m      5\u001b[0m \u001b[0mprint\u001b[0m\u001b[1;33m(\u001b[0m\u001b[0mcopied\u001b[0m\u001b[1;33m.\u001b[0m\u001b[0mshape\u001b[0m\u001b[1;33m)\u001b[0m\u001b[1;33m\u001b[0m\u001b[1;33m\u001b[0m\u001b[0m\n",
      "\u001b[1;31mValueError\u001b[0m: setting an array element with a sequence."
     ]
    }
   ],
   "source": [
    "input_arr = image_df.drop([\"label\", \"image_url\"], axis = 1).to_numpy().astype(np.float)\n",
    "\n",
    "copied = np.copy(input_arr)\n",
    "\n",
    "print(copied.shape)\n",
    "\n",
    "preprocessed = tf.keras.applications.vgg16.preprocess_input(copied)\n",
    "preprocessed.shape"
   ]
  },
  {
   "cell_type": "code",
   "execution_count": null,
   "metadata": {},
   "outputs": [],
   "source": []
  },
  {
   "cell_type": "code",
   "execution_count": null,
   "metadata": {},
   "outputs": [],
   "source": []
  },
  {
   "cell_type": "code",
   "execution_count": null,
   "metadata": {},
   "outputs": [],
   "source": []
  },
  {
   "cell_type": "code",
   "execution_count": null,
   "metadata": {},
   "outputs": [],
   "source": []
  },
  {
   "cell_type": "code",
   "execution_count": null,
   "metadata": {},
   "outputs": [],
   "source": []
  },
  {
   "cell_type": "code",
   "execution_count": null,
   "metadata": {},
   "outputs": [],
   "source": []
  },
  {
   "cell_type": "code",
   "execution_count": null,
   "metadata": {},
   "outputs": [],
   "source": []
  },
  {
   "cell_type": "code",
   "execution_count": null,
   "metadata": {},
   "outputs": [],
   "source": []
  },
  {
   "cell_type": "code",
   "execution_count": null,
   "metadata": {},
   "outputs": [],
   "source": []
  },
  {
   "cell_type": "code",
   "execution_count": null,
   "metadata": {},
   "outputs": [],
   "source": []
  },
  {
   "cell_type": "code",
   "execution_count": null,
   "metadata": {},
   "outputs": [],
   "source": []
  },
  {
   "cell_type": "code",
   "execution_count": null,
   "metadata": {},
   "outputs": [],
   "source": []
  }
 ],
 "metadata": {
  "kernelspec": {
   "display_name": "Python 3",
   "language": "python",
   "name": "python3"
  },
  "language_info": {
   "codemirror_mode": {
    "name": "ipython",
    "version": 3
   },
   "file_extension": ".py",
   "mimetype": "text/x-python",
   "name": "python",
   "nbconvert_exporter": "python",
   "pygments_lexer": "ipython3",
   "version": "3.8.3"
  }
 },
 "nbformat": 4,
 "nbformat_minor": 4
}
